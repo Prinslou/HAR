{
 "cells": [
  {
   "cell_type": "code",
   "execution_count": 13,
   "metadata": {},
   "outputs": [],
   "source": [
    "#packages\n",
    "import os\n",
    "import pandas as pd\n",
    "import numpy as np\n",
    "from sklearn import preprocessing,metrics \n",
    "from haversine import haversine\n",
    "pd.set_option(\"display.max_columns\", 100)\n",
    "import warnings\n",
    "warnings.filterwarnings('ignore')\n",
    "from sklearn.model_selection import train_test_split\n",
    "from sklearn.ensemble import RandomForestRegressor\n",
    "from sklearn.linear_model import LogisticRegression\n",
    "from sklearn.neural_network import MLPRegressor\n",
    "import matplotlib.pyplot as plt\n",
    "%matplotlib inline\n",
    "from sklearn import linear_model,svm\n",
    "from sklearn.metrics import \n",
    "from sklearn.linear_model import Lasso\n",
    "from sklearn.pipeline import make_pipeline\n",
    "from sklearn.preprocessing import RobustScaler\n",
    "from sklearn.model_selection import KFold, cross_val_score, train_test_split\n",
    "from sklearn.metrics import mean_squared_error\n",
    "from sklearn.ensemble import GradientBoostingRegressor"
   ]
  },
  {
   "cell_type": "code",
   "execution_count": 2,
   "metadata": {},
   "outputs": [
    {
     "data": {
      "text/html": [
       "<div>\n",
       "<style scoped>\n",
       "    .dataframe tbody tr th:only-of-type {\n",
       "        vertical-align: middle;\n",
       "    }\n",
       "\n",
       "    .dataframe tbody tr th {\n",
       "        vertical-align: top;\n",
       "    }\n",
       "\n",
       "    .dataframe thead th {\n",
       "        text-align: right;\n",
       "    }\n",
       "</style>\n",
       "<table border=\"1\" class=\"dataframe\">\n",
       "  <thead>\n",
       "    <tr style=\"text-align: right;\">\n",
       "      <th></th>\n",
       "      <th>id</th>\n",
       "      <th>vendor_id</th>\n",
       "      <th>pickup_datetime</th>\n",
       "      <th>dropoff_datetime</th>\n",
       "      <th>passenger_count</th>\n",
       "      <th>pickup_longitude</th>\n",
       "      <th>pickup_latitude</th>\n",
       "      <th>dropoff_longitude</th>\n",
       "      <th>dropoff_latitude</th>\n",
       "      <th>store_and_fwd_flag</th>\n",
       "      <th>trip_duration</th>\n",
       "    </tr>\n",
       "  </thead>\n",
       "  <tbody>\n",
       "    <tr>\n",
       "      <th>1448256</th>\n",
       "      <td>id1389846</td>\n",
       "      <td>1</td>\n",
       "      <td>2016-06-08 14:18:26</td>\n",
       "      <td>2016-06-08 14:47:05</td>\n",
       "      <td>1</td>\n",
       "      <td>-73.973389</td>\n",
       "      <td>40.743607</td>\n",
       "      <td>-73.989967</td>\n",
       "      <td>40.749077</td>\n",
       "      <td>N</td>\n",
       "      <td>1719</td>\n",
       "    </tr>\n",
       "    <tr>\n",
       "      <th>1234146</th>\n",
       "      <td>id0753766</td>\n",
       "      <td>2</td>\n",
       "      <td>2016-02-10 17:38:14</td>\n",
       "      <td>2016-02-10 17:44:21</td>\n",
       "      <td>2</td>\n",
       "      <td>-73.977432</td>\n",
       "      <td>40.763630</td>\n",
       "      <td>-73.962143</td>\n",
       "      <td>40.773762</td>\n",
       "      <td>N</td>\n",
       "      <td>367</td>\n",
       "    </tr>\n",
       "    <tr>\n",
       "      <th>997408</th>\n",
       "      <td>id1929945</td>\n",
       "      <td>2</td>\n",
       "      <td>2016-01-25 13:43:20</td>\n",
       "      <td>2016-01-25 13:49:26</td>\n",
       "      <td>1</td>\n",
       "      <td>-73.981430</td>\n",
       "      <td>40.746868</td>\n",
       "      <td>-73.974159</td>\n",
       "      <td>40.743870</td>\n",
       "      <td>N</td>\n",
       "      <td>366</td>\n",
       "    </tr>\n",
       "    <tr>\n",
       "      <th>1346728</th>\n",
       "      <td>id3884998</td>\n",
       "      <td>2</td>\n",
       "      <td>2016-05-21 18:39:00</td>\n",
       "      <td>2016-05-21 18:41:58</td>\n",
       "      <td>1</td>\n",
       "      <td>-73.965942</td>\n",
       "      <td>40.770321</td>\n",
       "      <td>-73.959465</td>\n",
       "      <td>40.767609</td>\n",
       "      <td>N</td>\n",
       "      <td>178</td>\n",
       "    </tr>\n",
       "    <tr>\n",
       "      <th>355944</th>\n",
       "      <td>id1269156</td>\n",
       "      <td>2</td>\n",
       "      <td>2016-02-27 22:42:27</td>\n",
       "      <td>2016-02-27 22:50:37</td>\n",
       "      <td>2</td>\n",
       "      <td>-73.984245</td>\n",
       "      <td>40.742470</td>\n",
       "      <td>-74.002960</td>\n",
       "      <td>40.734035</td>\n",
       "      <td>N</td>\n",
       "      <td>490</td>\n",
       "    </tr>\n",
       "  </tbody>\n",
       "</table>\n",
       "</div>"
      ],
      "text/plain": [
       "                id  vendor_id      pickup_datetime     dropoff_datetime  \\\n",
       "1448256  id1389846          1  2016-06-08 14:18:26  2016-06-08 14:47:05   \n",
       "1234146  id0753766          2  2016-02-10 17:38:14  2016-02-10 17:44:21   \n",
       "997408   id1929945          2  2016-01-25 13:43:20  2016-01-25 13:49:26   \n",
       "1346728  id3884998          2  2016-05-21 18:39:00  2016-05-21 18:41:58   \n",
       "355944   id1269156          2  2016-02-27 22:42:27  2016-02-27 22:50:37   \n",
       "\n",
       "         passenger_count  pickup_longitude  pickup_latitude  \\\n",
       "1448256                1        -73.973389        40.743607   \n",
       "1234146                2        -73.977432        40.763630   \n",
       "997408                 1        -73.981430        40.746868   \n",
       "1346728                1        -73.965942        40.770321   \n",
       "355944                 2        -73.984245        40.742470   \n",
       "\n",
       "         dropoff_longitude  dropoff_latitude store_and_fwd_flag  trip_duration  \n",
       "1448256         -73.989967         40.749077                  N           1719  \n",
       "1234146         -73.962143         40.773762                  N            367  \n",
       "997408          -73.974159         40.743870                  N            366  \n",
       "1346728         -73.959465         40.767609                  N            178  \n",
       "355944          -74.002960         40.734035                  N            490  "
      ]
     },
     "execution_count": 2,
     "metadata": {},
     "output_type": "execute_result"
    }
   ],
   "source": [
    "#loading data \n",
    "train_data = pd.read_csv('train.csv')\n",
    "test_data = pd.read_csv('test.csv')\n",
    "train_data.sample(5)"
   ]
  },
  {
   "cell_type": "code",
   "execution_count": 3,
   "metadata": {},
   "outputs": [
    {
     "data": {
      "text/plain": [
       "trip_duration         0.0\n",
       "store_and_fwd_flag    0.0\n",
       "dropoff_latitude      0.0\n",
       "dropoff_longitude     0.0\n",
       "pickup_latitude       0.0\n",
       "dtype: float64"
      ]
     },
     "execution_count": 3,
     "metadata": {},
     "output_type": "execute_result"
    }
   ],
   "source": [
    "#check for missing column values \n",
    "missing_train = train_data.isnull().mean().sort_values(ascending=False)\n",
    "missing_test = train_data.isnull().mean().sort_values(ascending=False)\n",
    "missing_train.head(5)"
   ]
  },
  {
   "cell_type": "code",
   "execution_count": 4,
   "metadata": {},
   "outputs": [
    {
     "name": "stdout",
     "output_type": "stream",
     "text": [
      "(1458644, 11)\n",
      "(625134, 9)\n"
     ]
    }
   ],
   "source": [
    "print(train_data.shape)\n",
    "print(test_data.shape)"
   ]
  },
  {
   "cell_type": "code",
   "execution_count": 5,
   "metadata": {},
   "outputs": [],
   "source": [
    "#drop uneceessary features and add haversine distance \n",
    "train_data.drop(labels=['id','pickup_datetime','dropoff_datetime'], axis=1, inplace=True)\n",
    "test_data.drop(labels=['id','pickup_datetime'], axis=1, inplace=True)\n",
    "train_dist = []\n",
    "test_dist = []\n",
    "for index, row in train_data.iterrows():\n",
    "    dist_train = haversine([row['pickup_latitude'],row['pickup_longitude']],[row['dropoff_latitude'],row['dropoff_longitude']])\n",
    "    train_dist.append(dist_train)\n",
    "for index, row in test_data.iterrows():\n",
    "    dist_test = haversine([row['pickup_latitude'],row['pickup_longitude']],[row['dropoff_latitude'],row['dropoff_longitude']])\n",
    "    test_dist.append(dist_test)\n",
    "train_data['dist'] = train_dist\n",
    "test_data['dist'] = test_dist"
   ]
  },
  {
   "cell_type": "code",
   "execution_count": 6,
   "metadata": {},
   "outputs": [
    {
     "data": {
      "text/html": [
       "<div>\n",
       "<style scoped>\n",
       "    .dataframe tbody tr th:only-of-type {\n",
       "        vertical-align: middle;\n",
       "    }\n",
       "\n",
       "    .dataframe tbody tr th {\n",
       "        vertical-align: top;\n",
       "    }\n",
       "\n",
       "    .dataframe thead th {\n",
       "        text-align: right;\n",
       "    }\n",
       "</style>\n",
       "<table border=\"1\" class=\"dataframe\">\n",
       "  <thead>\n",
       "    <tr style=\"text-align: right;\">\n",
       "      <th></th>\n",
       "      <th>vendor_id</th>\n",
       "      <th>passenger_count</th>\n",
       "      <th>pickup_longitude</th>\n",
       "      <th>pickup_latitude</th>\n",
       "      <th>dropoff_longitude</th>\n",
       "      <th>dropoff_latitude</th>\n",
       "      <th>store_and_fwd_flag</th>\n",
       "      <th>dist</th>\n",
       "    </tr>\n",
       "  </thead>\n",
       "  <tbody>\n",
       "    <tr>\n",
       "      <th>184411</th>\n",
       "      <td>2</td>\n",
       "      <td>1</td>\n",
       "      <td>-73.960060</td>\n",
       "      <td>40.782242</td>\n",
       "      <td>-73.977997</td>\n",
       "      <td>40.773602</td>\n",
       "      <td>0</td>\n",
       "      <td>1.789997</td>\n",
       "    </tr>\n",
       "    <tr>\n",
       "      <th>547614</th>\n",
       "      <td>2</td>\n",
       "      <td>1</td>\n",
       "      <td>-73.970352</td>\n",
       "      <td>40.758801</td>\n",
       "      <td>-73.975319</td>\n",
       "      <td>40.752041</td>\n",
       "      <td>0</td>\n",
       "      <td>0.860220</td>\n",
       "    </tr>\n",
       "    <tr>\n",
       "      <th>302521</th>\n",
       "      <td>1</td>\n",
       "      <td>1</td>\n",
       "      <td>-73.955086</td>\n",
       "      <td>40.820297</td>\n",
       "      <td>-73.900467</td>\n",
       "      <td>40.903721</td>\n",
       "      <td>0</td>\n",
       "      <td>10.351188</td>\n",
       "    </tr>\n",
       "    <tr>\n",
       "      <th>169893</th>\n",
       "      <td>1</td>\n",
       "      <td>1</td>\n",
       "      <td>-73.992790</td>\n",
       "      <td>40.739166</td>\n",
       "      <td>-73.956230</td>\n",
       "      <td>40.768822</td>\n",
       "      <td>0</td>\n",
       "      <td>4.511913</td>\n",
       "    </tr>\n",
       "    <tr>\n",
       "      <th>179249</th>\n",
       "      <td>1</td>\n",
       "      <td>2</td>\n",
       "      <td>-74.006378</td>\n",
       "      <td>40.733227</td>\n",
       "      <td>-74.001030</td>\n",
       "      <td>40.746464</td>\n",
       "      <td>0</td>\n",
       "      <td>1.539314</td>\n",
       "    </tr>\n",
       "  </tbody>\n",
       "</table>\n",
       "</div>"
      ],
      "text/plain": [
       "        vendor_id  passenger_count  pickup_longitude  pickup_latitude  \\\n",
       "184411          2                1        -73.960060        40.782242   \n",
       "547614          2                1        -73.970352        40.758801   \n",
       "302521          1                1        -73.955086        40.820297   \n",
       "169893          1                1        -73.992790        40.739166   \n",
       "179249          1                2        -74.006378        40.733227   \n",
       "\n",
       "        dropoff_longitude  dropoff_latitude  store_and_fwd_flag       dist  \n",
       "184411         -73.977997         40.773602                   0   1.789997  \n",
       "547614         -73.975319         40.752041                   0   0.860220  \n",
       "302521         -73.900467         40.903721                   0  10.351188  \n",
       "169893         -73.956230         40.768822                   0   4.511913  \n",
       "179249         -74.001030         40.746464                   0   1.539314  "
      ]
     },
     "execution_count": 6,
     "metadata": {},
     "output_type": "execute_result"
    }
   ],
   "source": [
    "#encoding necessary features\n",
    "train_data = train_data.replace({\"store_and_fwd_flag\": {\"N\":0, \"Y\":1}})\n",
    "test_data = test_data.replace({\"store_and_fwd_flag\": {\"N\":0, \"Y\":1}})\n",
    "train_data.sample(5)\n",
    "test_data.sample(5)"
   ]
  },
  {
   "cell_type": "code",
   "execution_count": 7,
   "metadata": {},
   "outputs": [
    {
     "name": "stdout",
     "output_type": "stream",
     "text": [
      "3.4334155628450507\n"
     ]
    }
   ],
   "source": [
    "print(np.mean(test_data['dist']))"
   ]
  },
  {
   "cell_type": "code",
   "execution_count": 8,
   "metadata": {},
   "outputs": [],
   "source": [
    "#randomly sample train and test data to reduce dataset\n",
    "train_data = train_data.sample(frac=0.1,random_state=4)\n",
    "test_data = test_data.sample(frac=0.1,random_state=4)"
   ]
  },
  {
   "cell_type": "code",
   "execution_count": 9,
   "metadata": {},
   "outputs": [
    {
     "data": {
      "text/html": [
       "<div>\n",
       "<style scoped>\n",
       "    .dataframe tbody tr th:only-of-type {\n",
       "        vertical-align: middle;\n",
       "    }\n",
       "\n",
       "    .dataframe tbody tr th {\n",
       "        vertical-align: top;\n",
       "    }\n",
       "\n",
       "    .dataframe thead th {\n",
       "        text-align: right;\n",
       "    }\n",
       "</style>\n",
       "<table border=\"1\" class=\"dataframe\">\n",
       "  <thead>\n",
       "    <tr style=\"text-align: right;\">\n",
       "      <th></th>\n",
       "      <th>vendor_id</th>\n",
       "      <th>passenger_count</th>\n",
       "      <th>pickup_longitude</th>\n",
       "      <th>pickup_latitude</th>\n",
       "      <th>dropoff_longitude</th>\n",
       "      <th>dropoff_latitude</th>\n",
       "      <th>store_and_fwd_flag</th>\n",
       "      <th>trip_duration</th>\n",
       "      <th>dist</th>\n",
       "    </tr>\n",
       "  </thead>\n",
       "  <tbody>\n",
       "    <tr>\n",
       "      <th>0</th>\n",
       "      <td>0.931173</td>\n",
       "      <td>-0.505519</td>\n",
       "      <td>-0.753195</td>\n",
       "      <td>-0.037354</td>\n",
       "      <td>-0.544689</td>\n",
       "      <td>0.068901</td>\n",
       "      <td>-0.073887</td>\n",
       "      <td>-0.233449</td>\n",
       "      <td>-0.604926</td>\n",
       "    </tr>\n",
       "    <tr>\n",
       "      <th>1</th>\n",
       "      <td>-1.073914</td>\n",
       "      <td>-0.505519</td>\n",
       "      <td>0.460681</td>\n",
       "      <td>2.133139</td>\n",
       "      <td>0.320428</td>\n",
       "      <td>1.508949</td>\n",
       "      <td>-0.073887</td>\n",
       "      <td>-0.237574</td>\n",
       "      <td>-0.582023</td>\n",
       "    </tr>\n",
       "    <tr>\n",
       "      <th>2</th>\n",
       "      <td>0.931173</td>\n",
       "      <td>1.780026</td>\n",
       "      <td>-0.557484</td>\n",
       "      <td>-1.022496</td>\n",
       "      <td>-0.656768</td>\n",
       "      <td>-0.308482</td>\n",
       "      <td>-0.073887</td>\n",
       "      <td>-0.134768</td>\n",
       "      <td>-0.238624</td>\n",
       "    </tr>\n",
       "    <tr>\n",
       "      <th>3</th>\n",
       "      <td>0.931173</td>\n",
       "      <td>-0.505519</td>\n",
       "      <td>2.021462</td>\n",
       "      <td>0.438130</td>\n",
       "      <td>2.008436</td>\n",
       "      <td>0.331202</td>\n",
       "      <td>-0.073887</td>\n",
       "      <td>0.002941</td>\n",
       "      <td>-0.803817</td>\n",
       "    </tr>\n",
       "    <tr>\n",
       "      <th>4</th>\n",
       "      <td>0.931173</td>\n",
       "      <td>0.256329</td>\n",
       "      <td>-0.415114</td>\n",
       "      <td>0.178882</td>\n",
       "      <td>-0.121860</td>\n",
       "      <td>0.059327</td>\n",
       "      <td>-0.073887</td>\n",
       "      <td>-0.014828</td>\n",
       "      <td>-0.572558</td>\n",
       "    </tr>\n",
       "  </tbody>\n",
       "</table>\n",
       "</div>"
      ],
      "text/plain": [
       "   vendor_id  passenger_count  pickup_longitude  pickup_latitude  \\\n",
       "0   0.931173        -0.505519         -0.753195        -0.037354   \n",
       "1  -1.073914        -0.505519          0.460681         2.133139   \n",
       "2   0.931173         1.780026         -0.557484        -1.022496   \n",
       "3   0.931173        -0.505519          2.021462         0.438130   \n",
       "4   0.931173         0.256329         -0.415114         0.178882   \n",
       "\n",
       "   dropoff_longitude  dropoff_latitude  store_and_fwd_flag  trip_duration  \\\n",
       "0          -0.544689          0.068901           -0.073887      -0.233449   \n",
       "1           0.320428          1.508949           -0.073887      -0.237574   \n",
       "2          -0.656768         -0.308482           -0.073887      -0.134768   \n",
       "3           2.008436          0.331202           -0.073887       0.002941   \n",
       "4          -0.121860          0.059327           -0.073887      -0.014828   \n",
       "\n",
       "       dist  \n",
       "0 -0.604926  \n",
       "1 -0.582023  \n",
       "2 -0.238624  \n",
       "3 -0.803817  \n",
       "4 -0.572558  "
      ]
     },
     "execution_count": 9,
     "metadata": {},
     "output_type": "execute_result"
    }
   ],
   "source": [
    "#normalizing train and test data \n",
    "train_data.fillna(train_data.mean(), inplace = True)\n",
    "train_labels = train_data.columns\n",
    "scaler = preprocessing.StandardScaler()\n",
    "scaled_train_data = scaler.fit_transform(train_data[train_labels])\n",
    "train_data = pd.DataFrame(scaled_train_data, columns = train_labels)\n",
    "test_data.fillna(test_data.mean(), inplace = True)\n",
    "test_labels = test_data.columns\n",
    "scaler = preprocessing.StandardScaler()\n",
    "scaled_test_data = scaler.fit_transform(train_data[test_labels])\n",
    "test_data = pd.DataFrame(scaled_test_data, columns = test_labels)\n",
    "train_data.head(5)"
   ]
  },
  {
   "cell_type": "code",
   "execution_count": 10,
   "metadata": {},
   "outputs": [
    {
     "data": {
      "text/plain": [
       "vendor_id             False\n",
       "passenger_count       False\n",
       "pickup_longitude      False\n",
       "pickup_latitude       False\n",
       "dropoff_longitude     False\n",
       "dropoff_latitude      False\n",
       "store_and_fwd_flag    False\n",
       "dist                  False\n",
       "dtype: bool"
      ]
     },
     "execution_count": 10,
     "metadata": {},
     "output_type": "execute_result"
    }
   ],
   "source": [
    "train_data.isnull().any()\n",
    "test_data.isnull().any()"
   ]
  },
  {
   "cell_type": "code",
   "execution_count": 11,
   "metadata": {},
   "outputs": [
    {
     "name": "stdout",
     "output_type": "stream",
     "text": [
      "train_target:  (145864,)\n",
      "train_set:  (102104, 8) (102104,)\n",
      "test_set:  (43760, 8) (43760,)\n"
     ]
    }
   ],
   "source": [
    "#split train data into train and cross_val\n",
    "train_target = pd.DataFrame(train_data['trip_duration'])\n",
    "train_data.drop('trip_duration', axis = 1, inplace = True)\n",
    "lab_enc = preprocessing.LabelEncoder()\n",
    "train_target_encoded = lab_enc.fit_transform(train_target)\n",
    "\n",
    "X_train, X_test, y_train, y_test = train_test_split(np.array(train_data), np.array(train_target_encoded), test_size=0.30)\n",
    "eval_set=[(X_test, y_test)]\n",
    "print(\"train_target: \", train_target_encoded.shape)\n",
    "print('train_set: ', X_train.shape, y_train.shape)\n",
    "print('test_set: ', X_test.shape, y_test.shape)"
   ]
  },
  {
   "cell_type": "code",
   "execution_count": 21,
   "metadata": {},
   "outputs": [
    {
     "name": "stdout",
     "output_type": "stream",
     "text": [
      "Test error:  143359.58032379524\n",
      "[ 680  525  558 3907 2877  990  570  338  959  939]\n",
      "[ 725.08  452.92  429.9  2283.46 2065.01  437.96  879.08  345.66  866.31\n",
      "  670.23]\n"
     ]
    }
   ],
   "source": [
    "#Random Forest\n",
    "random_forest_regressor = RandomForestRegressor(n_estimators = 100, n_jobs = 4)\n",
    "random_forest_regressor.fit(X_train, y_train)\n",
    "rf_y_pred = random_forest_regressor.predict(X_test)\n",
    "random_forest_error =  mean_squared_error(y_test, rf_y_pred)\n",
    "print(\"Test error: \", random_forest_error)\n",
    "print(y_test[0:10])\n",
    "print(rf_y_pred[0:10])"
   ]
  },
  {
   "cell_type": "code",
   "execution_count": null,
   "metadata": {},
   "outputs": [],
   "source": [
    "#Logistic Regression Model\n",
    "logistic_regression_classifier = LogisticRegression(C = 10, tol = 0.0001, random_state = 51, solver = 'liblinear', class_weight = 'balanced')\n",
    "train_results = logistic_regression_classifier.fit(X_train, y_train)\n",
    "train_score = train_results.score(X_train, y_train)\n",
    "print(\"Train accuracy: \", train_score)\n",
    "# Run on Test Data\n",
    "lr_y_pred = logistic_regression_classifier.predict(X_test)\n",
    "logistic_regression_accuracy = accuracy_score(y_test, lr_y_pred)\n",
    "print(\"Test Accuracy: \", logistic_regression_accuracy)\n",
    "print(classification_report(y_test, lr_y_pred))"
   ]
  },
  {
   "cell_type": "code",
   "execution_count": null,
   "metadata": {},
   "outputs": [],
   "source": []
  },
  {
   "cell_type": "code",
   "execution_count": null,
   "metadata": {},
   "outputs": [],
   "source": [
    "#Feature importance\n",
    "fig, ax = plt.subplots()\n",
    "width = 0.6\n",
    "feature_importances = pd.DataFrame(random_forest_classifier.feature_importances_, index = dataset.columns, columns = ['Importance']).sort_values('Importance', ascending = False)\n",
    "print(feature_importances)\n",
    "ax.bar(np.arange(len(dataset.columns)), random_forest_classifier.feature_importances_, width, color='b')\n",
    "ax.set_xticks(np.arange(len(random_forest_classifier.feature_importances_)))\n",
    "ax.set_xticklabels(dataset.columns.values, rotation = 90, horizontalalignment='right')\n",
    "plt.title('Feature Importances')\n",
    "ax.set_ylabel('Normalized Gini Importance')"
   ]
  },
  {
   "cell_type": "code",
   "execution_count": null,
   "metadata": {},
   "outputs": [],
   "source": [
    "#Multi-layer perceptron\n",
    "multi_layer_perceptron_classifier = MLPClassifier(solver='lbfgs', alpha = 1e-5, hidden_layer_sizes = (5, 2), random_state = 1)\n",
    "multi_layer_perceptron_classifier.fit(X_train, y_train)     \n",
    "mlp_y_pred = multi_layer_perceptron_classifier.predict(X_test)\n",
    "mlp_accuracy = accuracy_score(y_test, mlp_y_pred)\n",
    "print(\"Test Accuracy: \", mlp_accuracy)\n",
    "print(\"Confusion Matrix: \", confusion_matrix(y_test, mlp_y_pred, labels=[0, 1]))\n",
    "print(classification_report(y_test, mlp_y_pred))"
   ]
  },
  {
   "cell_type": "code",
   "execution_count": null,
   "metadata": {},
   "outputs": [],
   "source": [
    "#Multi-layer perceptron with Adam solver + changed hyperparams\n",
    "multi_layer_perceptron_classifier_2 = MLPClassifier(hidden_layer_sizes=(100,), activation='relu', solver='adam', alpha=0.0001, batch_size='auto', learning_rate='constant', learning_rate_init=0.001, power_t=0.5, max_iter=200, shuffle=True, random_state=None, tol=0.0001, verbose=False, warm_start=False, momentum=0.9, nesterovs_momentum = True, early_stopping=False, validation_fraction=0.1, beta_1=0.9, beta_2=0.999, epsilon=1e-08,n_iter_no_change = 10)\n",
    "multi_layer_perceptron_classifier_2.fit(X_train, y_train)     \n",
    "mlp_y_pred_2 = multi_layer_perceptron_classifier.predict(X_test)\n",
    "mlp_accuracy_2 = accuracy_score(y_test, mlp_y_pred_2)\n",
    "print(\"Test Accuracy: \", mlp_accuracy_2)\n",
    "print(\"Confusion Matrix: \", confusion_matrix(y_test, mlp_y_pred_2, labels=[0, 1]))\n",
    "print(classification_report(y_test, mlp_y_pred_2))"
   ]
  },
  {
   "cell_type": "code",
   "execution_count": null,
   "metadata": {},
   "outputs": [],
   "source": [
    "#svm\n"
   ]
  }
 ],
 "metadata": {
  "kernelspec": {
   "display_name": "Python 3",
   "language": "python",
   "name": "python3"
  },
  "language_info": {
   "codemirror_mode": {
    "name": "ipython",
    "version": 3
   },
   "file_extension": ".py",
   "mimetype": "text/x-python",
   "name": "python",
   "nbconvert_exporter": "python",
   "pygments_lexer": "ipython3",
   "version": "3.6.8"
  }
 },
 "nbformat": 4,
 "nbformat_minor": 2
}
