{
 "cells": [
  {
   "cell_type": "code",
   "execution_count": 1,
   "metadata": {},
   "outputs": [],
   "source": [
    "#packages\n",
    "import os\n",
    "import pandas as pd\n",
    "import numpy as np\n",
    "from sklearn import preprocessing,metrics \n",
    "from haversine import haversine\n",
    "from datetime import datetime\n",
    "import xgboost as xgb\n",
    "import matplotlib.pyplot as plt\n",
    "import os\n",
    "os.environ['KMP_DUPLICATE_LIB_OK']='True'\n",
    "import warnings\n",
    "from sklearn import linear_model\n",
    "from sklearn.svm import SVR\n",
    "from sklearn.model_selection import train_test_split,KFold, cross_val_score\n",
    "from sklearn.ensemble import RandomForestRegressor,GradientBoostingRegressor\n",
    "from sklearn.linear_model import LogisticRegression,Lasso,LinearRegression, Ridge,BayesianRidge\n",
    "from sklearn.neural_network import MLPRegressor\n",
    "from sklearn.pipeline import make_pipeline\n",
    "from sklearn.preprocessing import RobustScaler\n",
    "from sklearn.metrics import mean_squared_error\n",
    "from sklearn.cluster import KMeans \n",
    "warnings.filterwarnings('ignore')\n",
    "pd.set_option(\"display.max_columns\", 100)\n",
    "%matplotlib inline"
   ]
  },
  {
   "cell_type": "code",
   "execution_count": 2,
   "metadata": {},
   "outputs": [
    {
     "data": {
      "text/html": [
       "<div>\n",
       "<style scoped>\n",
       "    .dataframe tbody tr th:only-of-type {\n",
       "        vertical-align: middle;\n",
       "    }\n",
       "\n",
       "    .dataframe tbody tr th {\n",
       "        vertical-align: top;\n",
       "    }\n",
       "\n",
       "    .dataframe thead th {\n",
       "        text-align: right;\n",
       "    }\n",
       "</style>\n",
       "<table border=\"1\" class=\"dataframe\">\n",
       "  <thead>\n",
       "    <tr style=\"text-align: right;\">\n",
       "      <th></th>\n",
       "      <th>id</th>\n",
       "      <th>vendor_id</th>\n",
       "      <th>pickup_datetime</th>\n",
       "      <th>dropoff_datetime</th>\n",
       "      <th>passenger_count</th>\n",
       "      <th>pickup_longitude</th>\n",
       "      <th>pickup_latitude</th>\n",
       "      <th>dropoff_longitude</th>\n",
       "      <th>dropoff_latitude</th>\n",
       "      <th>store_and_fwd_flag</th>\n",
       "      <th>trip_duration</th>\n",
       "    </tr>\n",
       "  </thead>\n",
       "  <tbody>\n",
       "    <tr>\n",
       "      <th>1418491</th>\n",
       "      <td>id2529104</td>\n",
       "      <td>1</td>\n",
       "      <td>2016-01-26 15:12:36</td>\n",
       "      <td>2016-01-26 15:26:27</td>\n",
       "      <td>1</td>\n",
       "      <td>-73.969788</td>\n",
       "      <td>40.750618</td>\n",
       "      <td>-73.961632</td>\n",
       "      <td>40.760670</td>\n",
       "      <td>N</td>\n",
       "      <td>831</td>\n",
       "    </tr>\n",
       "    <tr>\n",
       "      <th>712984</th>\n",
       "      <td>id1194364</td>\n",
       "      <td>2</td>\n",
       "      <td>2016-05-11 03:59:03</td>\n",
       "      <td>2016-05-11 04:04:54</td>\n",
       "      <td>1</td>\n",
       "      <td>-73.987999</td>\n",
       "      <td>40.764629</td>\n",
       "      <td>-73.980827</td>\n",
       "      <td>40.764130</td>\n",
       "      <td>N</td>\n",
       "      <td>351</td>\n",
       "    </tr>\n",
       "    <tr>\n",
       "      <th>791256</th>\n",
       "      <td>id3329014</td>\n",
       "      <td>2</td>\n",
       "      <td>2016-03-01 10:03:40</td>\n",
       "      <td>2016-03-01 10:46:52</td>\n",
       "      <td>1</td>\n",
       "      <td>-73.862770</td>\n",
       "      <td>40.768806</td>\n",
       "      <td>-73.982536</td>\n",
       "      <td>40.755322</td>\n",
       "      <td>N</td>\n",
       "      <td>2592</td>\n",
       "    </tr>\n",
       "    <tr>\n",
       "      <th>743891</th>\n",
       "      <td>id1346292</td>\n",
       "      <td>1</td>\n",
       "      <td>2016-03-25 09:07:38</td>\n",
       "      <td>2016-03-25 09:15:07</td>\n",
       "      <td>1</td>\n",
       "      <td>-73.995758</td>\n",
       "      <td>40.754082</td>\n",
       "      <td>-73.989792</td>\n",
       "      <td>40.767563</td>\n",
       "      <td>N</td>\n",
       "      <td>449</td>\n",
       "    </tr>\n",
       "    <tr>\n",
       "      <th>214554</th>\n",
       "      <td>id3752818</td>\n",
       "      <td>1</td>\n",
       "      <td>2016-03-22 08:59:07</td>\n",
       "      <td>2016-03-22 09:22:57</td>\n",
       "      <td>1</td>\n",
       "      <td>-73.960640</td>\n",
       "      <td>40.769745</td>\n",
       "      <td>-73.987015</td>\n",
       "      <td>40.744709</td>\n",
       "      <td>N</td>\n",
       "      <td>1430</td>\n",
       "    </tr>\n",
       "  </tbody>\n",
       "</table>\n",
       "</div>"
      ],
      "text/plain": [
       "                id  vendor_id      pickup_datetime     dropoff_datetime  \\\n",
       "1418491  id2529104          1  2016-01-26 15:12:36  2016-01-26 15:26:27   \n",
       "712984   id1194364          2  2016-05-11 03:59:03  2016-05-11 04:04:54   \n",
       "791256   id3329014          2  2016-03-01 10:03:40  2016-03-01 10:46:52   \n",
       "743891   id1346292          1  2016-03-25 09:07:38  2016-03-25 09:15:07   \n",
       "214554   id3752818          1  2016-03-22 08:59:07  2016-03-22 09:22:57   \n",
       "\n",
       "         passenger_count  pickup_longitude  pickup_latitude  \\\n",
       "1418491                1        -73.969788        40.750618   \n",
       "712984                 1        -73.987999        40.764629   \n",
       "791256                 1        -73.862770        40.768806   \n",
       "743891                 1        -73.995758        40.754082   \n",
       "214554                 1        -73.960640        40.769745   \n",
       "\n",
       "         dropoff_longitude  dropoff_latitude store_and_fwd_flag  trip_duration  \n",
       "1418491         -73.961632         40.760670                  N            831  \n",
       "712984          -73.980827         40.764130                  N            351  \n",
       "791256          -73.982536         40.755322                  N           2592  \n",
       "743891          -73.989792         40.767563                  N            449  \n",
       "214554          -73.987015         40.744709                  N           1430  "
      ]
     },
     "execution_count": 2,
     "metadata": {},
     "output_type": "execute_result"
    }
   ],
   "source": [
    "#loading data \n",
    "train_data = pd.read_csv('train.csv')\n",
    "train_data.sample(5)"
   ]
  },
  {
   "cell_type": "code",
   "execution_count": 3,
   "metadata": {},
   "outputs": [
    {
     "name": "stdout",
     "output_type": "stream",
     "text": [
      "trip_duration         0.0\n",
      "store_and_fwd_flag    0.0\n",
      "dropoff_latitude      0.0\n",
      "dropoff_longitude     0.0\n",
      "pickup_latitude       0.0\n",
      "dtype: float64\n",
      "(1458644, 11)\n"
     ]
    }
   ],
   "source": [
    "#check for missing column values and check data shape\n",
    "missing_train = train_data.isnull().mean().sort_values(ascending=False)\n",
    "print(missing_train.head(5))\n",
    "print(train_data.shape)"
   ]
  },
  {
   "cell_type": "code",
   "execution_count": 4,
   "metadata": {},
   "outputs": [],
   "source": [
    "#drop uneceessary features and add haversine distance \n",
    "train_data.drop(labels=['id','pickup_datetime','dropoff_datetime'], axis=1, inplace=True)\n",
    "train_dist = []\n",
    "for index, row in train_data.iterrows():\n",
    "    dist_train = haversine([row['pickup_latitude'],row['pickup_longitude']],[row['dropoff_latitude'],row['dropoff_longitude']])\n",
    "    train_dist.append(dist_train)\n",
    "train_data['dist'] = train_dist"
   ]
  },
  {
   "cell_type": "code",
   "execution_count": null,
   "metadata": {},
   "outputs": [
    {
     "name": "stdout",
     "output_type": "stream",
     "text": [
      "Max_dist 1240.9103906669181\n",
      "Min_dist 0.0\n",
      "Mean_dist 3.440868654734528\n"
     ]
    }
   ],
   "source": [
    "#analyze and remove outliers\n",
    "max_dist_train = np.max([train_data['dist']])\n",
    "print(\"Max_dist\", max_dist_train)\n",
    "min_dist_train = np.min([train_data['dist']])\n",
    "print(\"Min_dist\",min_dist_train)\n",
    "mean_dist_train = np.mean([train_data['dist']])\n",
    "print(\"Mean_dist\",mean_dist_train)\n",
    "dist_std_train = np.std(train_data['dist'])\n",
    "train_data = train_data[train_data['dist'] <= mean_dist_train + 2*dist_std_train]\n",
    "train_data = train_data[train_data['dist'] >= mean_dist_train - 2*dist_std_train]"
   ]
  },
  {
   "cell_type": "code",
   "execution_count": null,
   "metadata": {},
   "outputs": [],
   "source": [
    "#encoding necessary features and randomly sample to reduce dataset size\n",
    "train_data = train_data.replace({\"store_and_fwd_flag\": {\"N\":0, \"Y\":1}})\n",
    "train_data = train_data.sample(frac=0.1,random_state=4)\n",
    "#train_data.sample(5)"
   ]
  },
  {
   "cell_type": "code",
   "execution_count": null,
   "metadata": {},
   "outputs": [
    {
     "name": "stdout",
     "output_type": "stream",
     "text": [
      "train_target:  (139495, 1)\n",
      "train_set:  (97646, 8) (97646, 1)\n",
      "test_set:  (41849, 8) (41849, 1)\n"
     ]
    }
   ],
   "source": [
    "#transforming duration to log scale to allow for RMSE plus spliting data\n",
    "train_data['log_duration'] = np.log(train_data['trip_duration'].values + 1)\n",
    "train_data.drop(labels=['trip_duration'], axis=1, inplace=True)\n",
    "train_target = pd.DataFrame(train_data['log_duration'])\n",
    "train_data.drop('log_duration', axis = 1, inplace = True)\n",
    "X_train, X_test, y_train, y_test = train_test_split(np.array(train_data), np.array(train_target), test_size=0.30)\n",
    "eval_set=[(X_test, y_test)]\n",
    "print(\"train_target: \", train_target.shape)\n",
    "print('train_set: ', X_train.shape, y_train.shape)\n",
    "print('test_set: ', X_test.shape, y_test.shape)"
   ]
  },
  {
   "cell_type": "code",
   "execution_count": null,
   "metadata": {},
   "outputs": [
    {
     "name": "stdout",
     "output_type": "stream",
     "text": [
      "Test error:  0.4740858788450759\n",
      "[[6.52649486]\n",
      " [5.67332327]\n",
      " [5.66296048]\n",
      " [6.20253552]\n",
      " [7.1491316 ]\n",
      " [6.55961524]\n",
      " [6.2441669 ]\n",
      " [5.12396398]\n",
      " [6.45990445]\n",
      " [7.85554468]]\n",
      "[5.96627376 5.87121493 6.1773009  5.76117761 7.24784922 6.71962444\n",
      " 5.80639109 5.47822255 6.4351085  4.9904701 ]\n"
     ]
    }
   ],
   "source": [
    "#Random Forest\n",
    "random_forest_regressor= RandomForestRegressor(n_estimators = 100, n_jobs = 4)\n",
    "random_forest_regressor.fit(X_train, y_train)\n",
    "rf_y_pred = random_forest_regressor.predict(X_test)\n",
    "random_forest_error =  np.sqrt(mean_squared_error(y_test, rf_y_pred))\n",
    "print(\"Test error: \", random_forest_error)\n",
    "print(y_test[0:10])\n",
    "print(rf_y_pred[0:10])"
   ]
  },
  {
   "cell_type": "code",
   "execution_count": null,
   "metadata": {},
   "outputs": [
    {
     "name": "stdout",
     "output_type": "stream",
     "text": [
      "                    Importance\n",
      "dist                  0.629201\n",
      "dropoff_latitude      0.095163\n",
      "dropoff_longitude     0.086241\n",
      "pickup_longitude      0.085299\n",
      "pickup_latitude       0.077380\n",
      "passenger_count       0.015137\n",
      "vendor_id             0.010943\n",
      "store_and_fwd_flag    0.000637\n"
     ]
    },
    {
     "data": {
      "text/plain": [
       "Text(0, 0.5, 'Normalized Gini Importance')"
      ]
     },
     "execution_count": 9,
     "metadata": {},
     "output_type": "execute_result"
    },
    {
     "data": {
      "image/png": "[encoded data removed]",
      "text/plain": [
       "<Figure size 432x288 with 1 Axes>"
      ]
     },
     "metadata": {
      "needs_background": "light"
     },
     "output_type": "display_data"
    }
   ],
   "source": [
    "#Feature importance\n",
    "fig, ax = plt.subplots()\n",
    "width = 0.6\n",
    "feature_importances = pd.DataFrame(random_forest_regressor.feature_importances_, index = train_data.columns, columns = ['Importance']).sort_values('Importance', ascending = False)\n",
    "print(feature_importances)\n",
    "ax.bar(np.arange(len(train_data.columns)), random_forest_regressor.feature_importances_, width, color='b')\n",
    "ax.set_xticks(np.arange(len(random_forest_regressor.feature_importances_)))\n",
    "ax.set_xticklabels(train_data.columns.values, rotation = 90, horizontalalignment='right')\n",
    "plt.title('Feature Importances')\n",
    "ax.set_ylabel('Normalized Gini Importance')"
   ]
  },
  {
   "cell_type": "code",
   "execution_count": null,
   "metadata": {},
   "outputs": [
    {
     "name": "stdout",
     "output_type": "stream",
     "text": [
      "[04:14:08] src/tree/updater_prune.cc:74: tree pruning end, 1 roots, 56 extra nodes, 0 pruned nodes, max_depth=6\n",
      "[0]\teval-rmse:0.899456\ttrain-rmse:0.891365\n",
      "Multiple eval metrics have been passed: 'train-rmse' will be used for early stopping.\n",
      "\n",
      "Will train until train-rmse hasn't improved in 2 rounds.\n",
      "[04:14:08] src/tree/updater_prune.cc:74: tree pruning end, 1 roots, 90 extra nodes, 0 pruned nodes, max_depth=6\n",
      "[1]\teval-rmse:0.677491\ttrain-rmse:0.664235\n",
      "[04:14:08] src/tree/updater_prune.cc:74: tree pruning end, 1 roots, 120 extra nodes, 0 pruned nodes, max_depth=6\n",
      "[2]\teval-rmse:0.671255\ttrain-rmse:0.656483\n",
      "[04:14:09] src/tree/updater_prune.cc:74: tree pruning end, 1 roots, 122 extra nodes, 0 pruned nodes, max_depth=6\n",
      "[3]\teval-rmse:0.616563\ttrain-rmse:0.599849\n",
      "[04:14:09] src/tree/updater_prune.cc:74: tree pruning end, 1 roots, 110 extra nodes, 0 pruned nodes, max_depth=6\n",
      "[4]\teval-rmse:0.614163\ttrain-rmse:0.59593\n",
      "[04:14:09] src/tree/updater_prune.cc:74: tree pruning end, 1 roots, 120 extra nodes, 0 pruned nodes, max_depth=6\n",
      "[5]\teval-rmse:0.541679\ttrain-rmse:0.524327\n",
      "[04:14:09] src/tree/updater_prune.cc:74: tree pruning end, 1 roots, 76 extra nodes, 0 pruned nodes, max_depth=6\n",
      "[6]\teval-rmse:0.530211\ttrain-rmse:0.512568\n",
      "[04:14:09] src/tree/updater_prune.cc:74: tree pruning end, 1 roots, 108 extra nodes, 0 pruned nodes, max_depth=6\n",
      "[7]\teval-rmse:0.525361\ttrain-rmse:0.505404\n",
      "[04:14:09] src/tree/updater_prune.cc:74: tree pruning end, 1 roots, 116 extra nodes, 0 pruned nodes, max_depth=6\n",
      "[8]\teval-rmse:0.522092\ttrain-rmse:0.500481\n",
      "[04:14:10] src/tree/updater_prune.cc:74: tree pruning end, 1 roots, 98 extra nodes, 0 pruned nodes, max_depth=6\n",
      "[9]\teval-rmse:0.520476\ttrain-rmse:0.497672\n",
      "Modeling RMSLE 0.49767\n"
     ]
    }
   ],
   "source": [
    "#XGBoost\n",
    "dtrain = xgb.DMatrix(X_train, label=y_train)\n",
    "dtrain.save_binary('train.buffer')\n",
    "dtest = xgb.DMatrix(X_test, label=y_test)\n",
    "dtest.save_binary('test.buffer')\n",
    "evallist = [(dtest, 'eval'), (dtrain, 'train')]\n",
    "param = {'min_child_weight': 3, 'eta': 0.9, 'colsample_bytree': 0.6, 'max_depth': 6,\n",
    "            'subsample': 0.9, 'lambda': 1., 'nthread': -1,'booster' : 'gbtree',\n",
    "            'eval_metric': 'rmse', 'objective': 'reg:linear'}\n",
    "bst = xgb.train(param, dtrain, 10, evallist, early_stopping_rounds=2, maximize=False, verbose_eval=1)\n",
    "print('Modeling RMSLE %.5f' % bst.best_score)\n",
    "pred = bst.predict(dtest, ntree_limit=bst.best_ntree_limit)\n",
    "pred = np.exp(pred) - 1"
   ]
  },
  {
   "cell_type": "code",
   "execution_count": null,
   "metadata": {},
   "outputs": [
    {
     "name": "stdout",
     "output_type": "stream",
     "text": [
      "Test error:  0.7609116100313128\n"
     ]
    }
   ],
   "source": [
    "#Multi-layer perceptron\n",
    "multi_layer_perceptron_regressor = MLPRegressor(solver='lbfgs', alpha = 1e-5, hidden_layer_sizes = (5, 2), random_state = 1)\n",
    "multi_layer_perceptron_regressor.fit(X_train, y_train)     \n",
    "mlp_y_pred = multi_layer_perceptron_regressor.predict(X_test)\n",
    "mlp_error = np.sqrt(mean_squared_error(y_test, mlp_y_pred))\n",
    "print(\"Test error: \", mlp_error)"
   ]
  },
  {
   "cell_type": "code",
   "execution_count": null,
   "metadata": {},
   "outputs": [
    {
     "name": "stdout",
     "output_type": "stream",
     "text": [
      "Test error:  0.5197200030740071\n"
     ]
    }
   ],
   "source": [
    "#Multi-layer perceptron with Adam solver + changed hyperparams\n",
    "multi_layer_perceptron_regressor_2 = MLPRegressor(hidden_layer_sizes=(200,), activation='relu', solver='adam', alpha=0.0001, batch_size='auto', learning_rate='constant', learning_rate_init=0.001, power_t=0.5, max_iter=200, shuffle=True, random_state=None, tol=0.0001, verbose=False, warm_start=False, momentum=0.9, nesterovs_momentum = True, early_stopping=False, validation_fraction=0.1, beta_1=0.9, beta_2=0.999, epsilon=1e-08,n_iter_no_change = 10)\n",
    "multi_layer_perceptron_regressor_2.fit(X_train, y_train)     \n",
    "mlp_y_pred_2 = multi_layer_perceptron_regressor_2.predict(X_test)\n",
    "mlp_error_2 = np.sqrt(mean_squared_error(y_test, mlp_y_pred_2))\n",
    "print(\"Test error: \", mlp_error_2)"
   ]
  },
  {
   "cell_type": "code",
   "execution_count": null,
   "metadata": {},
   "outputs": [],
   "source": [
    "#svm using various kernels\n",
    "#commented out since it takes very long to run\n",
    "\n",
    "# kernels = ['linear','sigmoid','rbf']\n",
    "# for curr_kernel in kernels:\n",
    "#     model_svm = SVR(kernel= curr_kernel)\n",
    "#     model_svm.fit(X_train, y_train)\n",
    "#     svm_pred = model_svm.predict(X_test)\n",
    "#     svm_pred_error = np.sqrt(mean_squared_error(y_test, svm_pred))\n",
    "#     print(curr_kernel)\n",
    "#     print(\"Test error: \", svm_pred_error)`"
   ]
  },
  {
   "cell_type": "code",
   "execution_count": null,
   "metadata": {},
   "outputs": [],
   "source": []
  }
 ],
 "metadata": {
  "kernelspec": {
   "display_name": "Python 3",
   "language": "python",
   "name": "python3"
  },
  "language_info": {
   "codemirror_mode": {
    "name": "ipython",
    "version": 3
   },
   "file_extension": ".py",
   "mimetype": "text/x-python",
   "name": "python",
   "nbconvert_exporter": "python",
   "pygments_lexer": "ipython3",
   "version": "3.6.8"
  }
 },
 "nbformat": 4,
 "nbformat_minor": 2
}
